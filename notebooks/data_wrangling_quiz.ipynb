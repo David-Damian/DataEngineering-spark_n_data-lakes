{
 "metadata": {
  "language_info": {
   "codemirror_mode": {
    "name": "ipython",
    "version": 3
   },
   "file_extension": ".py",
   "mimetype": "text/x-python",
   "name": "python",
   "nbconvert_exporter": "python",
   "pygments_lexer": "ipython3",
   "version": "3.10.0-final"
  },
  "orig_nbformat": 2,
  "kernelspec": {
   "name": "Python 3.10.0 64-bit",
   "display_name": "Python 3.10.0 64-bit",
   "metadata": {
    "interpreter": {
     "hash": "767d51c1340bd893661ea55ea3124f6de3c7a262a8b4abca0554b478b1e2ff90"
    }
   }
  }
 },
 "nbformat": 4,
 "nbformat_minor": 2,
 "cells": [
  {
   "source": [
    "# Data Wrangling with DataFrames Coding Quiz"
   ],
   "cell_type": "markdown",
   "metadata": {}
  },
  {
   "cell_type": "code",
   "execution_count": 7,
   "metadata": {},
   "outputs": [],
   "source": [
    "from pyspark.sql import SparkSession\n",
    "from pyspark.sql.types import IntegerType\n",
    "from pyspark.sql.functions import sum as Fsum\n",
    "from pyspark.sql.functions import udf"
   ]
  },
  {
   "cell_type": "code",
   "execution_count": 2,
   "metadata": {},
   "outputs": [
    {
     "output_type": "stream",
     "name": "stderr",
     "text": [
      "Setting default log level to \"WARN\".\n",
      "To adjust logging level use sc.setLogLevel(newLevel). For SparkR, use setLogLevel(newLevel).\n",
      "24/08/12 01:26:16 WARN NativeCodeLoader: Unable to load native-hadoop library for your platform... using builtin-java classes where applicable\n"
     ]
    }
   ],
   "source": [
    "spark = SparkSession\\\n",
    "        .builder\\\n",
    "        .appName(\"data wrangling quiz\")\\\n",
    "        .getOrCreate()"
   ]
  },
  {
   "cell_type": "code",
   "execution_count": 3,
   "metadata": {},
   "outputs": [
    {
     "output_type": "stream",
     "name": "stderr",
     "text": []
    }
   ],
   "source": [
    "DATA_PATH = '../../data/sparkify_log_small.json'\n",
    "user_log = spark.read.json(DATA_PATH)"
   ]
  },
  {
   "source": [
    "## Question 1\n",
    "### Which page did user id \"\" (empty string) NOT visit?"
   ],
   "cell_type": "markdown",
   "metadata": {}
  },
  {
   "source": [
    "First we will see all the posibilities that a user had to visit a page"
   ],
   "cell_type": "markdown",
   "metadata": {}
  },
  {
   "cell_type": "code",
   "execution_count": 10,
   "metadata": {},
   "outputs": [
    {
     "output_type": "stream",
     "name": "stdout",
     "text": [
      "+----------------+\n|            page|\n+----------------+\n|Submit Downgrade|\n|            Home|\n|       Downgrade|\n|          Logout|\n|   Save Settings|\n|           About|\n|        Settings|\n|           Login|\n|        NextSong|\n|            Help|\n|         Upgrade|\n|           Error|\n|  Submit Upgrade|\n+----------------+\n\n"
     ]
    }
   ],
   "source": [
    "pages_to_visit = user_log.select('page').dropDuplicates()\n",
    "pages_to_visit.show()"
   ]
  },
  {
   "source": [
    "Then, let's see which pages do the _empty user_ visited."
   ],
   "cell_type": "markdown",
   "metadata": {}
  },
  {
   "cell_type": "code",
   "execution_count": 16,
   "metadata": {},
   "outputs": [
    {
     "output_type": "execute_result",
     "data": {
      "text/plain": [
       "{'About', 'Help', 'Home', 'Login'}"
      ]
     },
     "metadata": {},
     "execution_count": 16
    }
   ],
   "source": [
    "# show pages that the empty user visited\n",
    "empty_user_visited_pages = set(\n",
    "    user_log.filter(user_log.userId == '').select(['userId','page']).dropDuplicates().toPandas().page.unique()\n",
    ")\n",
    "empty_user_visited_pages"
   ]
  },
  {
   "source": [
    "Then the pages not visited by the empty user are:\n"
   ],
   "cell_type": "markdown",
   "metadata": {}
  },
  {
   "cell_type": "code",
   "execution_count": 17,
   "metadata": {},
   "outputs": [
    {
     "output_type": "execute_result",
     "data": {
      "text/plain": [
       "{'Downgrade',\n",
       " 'Error',\n",
       " 'Logout',\n",
       " 'NextSong',\n",
       " 'Save Settings',\n",
       " 'Settings',\n",
       " 'Submit Downgrade',\n",
       " 'Submit Upgrade',\n",
       " 'Upgrade'}"
      ]
     },
     "metadata": {},
     "execution_count": 17
    }
   ],
   "source": [
    "pages_list = set(pages_to_visit.toPandas().page.unique())\n",
    "# pages the empty user did not visit\n",
    "pages_list - empty_user_visited_pages"
   ]
  },
  {
   "source": [
    "## Question 2 - Reflect \n",
    "### What type of user does the empty string user id most likely refer to?"
   ],
   "cell_type": "markdown",
   "metadata": {}
  },
  {
   "cell_type": "code",
   "execution_count": 19,
   "metadata": {},
   "outputs": [
    {
     "output_type": "execute_result",
     "data": {
      "text/plain": [
       "[Row(artist=None, auth='Logged Out', firstName=None, gender=None, itemInSession=0, lastName=None, length=None, level='free', location=None, method='PUT', page='Login', registration=None, sessionId=5598, song=None, status=307, ts=1513721196284, userAgent=None, userId=''),\n",
       " Row(artist=None, auth='Logged Out', firstName=None, gender=None, itemInSession=26, lastName=None, length=None, level='paid', location=None, method='GET', page='Home', registration=None, sessionId=428, song=None, status=200, ts=1513721274284, userAgent=None, userId=''),\n",
       " Row(artist=None, auth='Logged Out', firstName=None, gender=None, itemInSession=5, lastName=None, length=None, level='free', location=None, method='GET', page='Home', registration=None, sessionId=2941, song=None, status=200, ts=1513722009284, userAgent=None, userId=''),\n",
       " Row(artist=None, auth='Logged Out', firstName=None, gender=None, itemInSession=5, lastName=None, length=None, level='paid', location=None, method='GET', page='Home', registration=None, sessionId=5243, song=None, status=200, ts=1513723183284, userAgent=None, userId=''),\n",
       " Row(artist=None, auth='Logged Out', firstName=None, gender=None, itemInSession=6, lastName=None, length=None, level='paid', location=None, method='PUT', page='Login', registration=None, sessionId=5243, song=None, status=307, ts=1513723184284, userAgent=None, userId='')]"
      ]
     },
     "metadata": {},
     "execution_count": 19
    }
   ],
   "source": [
    "user_log.filter(user_log.userId == '').head(5)"
   ]
  },
  {
   "cell_type": "code",
   "execution_count": null,
   "metadata": {},
   "outputs": [],
   "source": []
  },
  {
   "source": [
    "## Question 3\n",
    "### How many female users do we have in the data set?"
   ],
   "cell_type": "markdown",
   "metadata": {}
  },
  {
   "cell_type": "code",
   "execution_count": 25,
   "metadata": {},
   "outputs": [
    {
     "output_type": "execute_result",
     "data": {
      "text/plain": [
       "462"
      ]
     },
     "metadata": {},
     "execution_count": 25
    }
   ],
   "source": [
    "user_log.filter(user_log.gender == 'F').dropDuplicates(subset = ['userId']).count()"
   ]
  },
  {
   "source": [
    "## Question 4\n",
    "### How many songs were played from the most played artist?"
   ],
   "cell_type": "markdown",
   "metadata": {}
  },
  {
   "source": [
    "First lets see who is the most played artist"
   ],
   "cell_type": "markdown",
   "metadata": {}
  },
  {
   "cell_type": "code",
   "execution_count": 33,
   "metadata": {},
   "outputs": [
    {
     "output_type": "stream",
     "name": "stdout",
     "text": [
      "+--------------------+-----+\n|              artist|count|\n+--------------------+-----+\n|            Coldplay|   83|\n|       Kings Of Leon|   69|\n|Florence + The Ma...|   52|\n|            BjÃÂ¶rk|   46|\n|       Dwight Yoakam|   45|\n|       Justin Bieber|   43|\n|      The Black Keys|   40|\n|         OneRepublic|   37|\n|        Jack Johnson|   36|\n|                Muse|   36|\n|           Radiohead|   31|\n|        Taylor Swift|   29|\n|          Lily Allen|   28|\n|Barry Tuckwell/Ac...|   28|\n|               Train|   28|\n|           Daft Punk|   27|\n|          Nickelback|   27|\n|           Metallica|   27|\n|          Kanye West|   26|\n|          John Mayer|   24|\n+--------------------+-----+\nonly showing top 20 rows\n\n"
     ]
    }
   ],
   "source": [
    "# every row of the next df, means that the user played a song\n",
    "had_play_songs = user_log.filter(user_log.page == 'NextSong')\n",
    "# compute the times an artist was played\n",
    "had_play_songs.groupBy('artist').count().orderBy('count', ascending = False).show()"
   ]
  },
  {
   "source": [
    "Thus, **Coldplay** was the most played artist, with **83 reproductions**."
   ],
   "cell_type": "markdown",
   "metadata": {}
  },
  {
   "source": [
    "## Question 5 (challenge)\n",
    "### How many songs do users listen to on average between visiting our home page? Please round your answer to the closest integer.\n"
   ],
   "cell_type": "markdown",
   "metadata": {}
  },
  {
   "cell_type": "code",
   "execution_count": 87,
   "metadata": {},
   "outputs": [],
   "source": [
    "from pyspark.sql import Window\n",
    "from pyspark.sql.functions import desc, asc, count"
   ]
  },
  {
   "cell_type": "code",
   "execution_count": 85,
   "metadata": {},
   "outputs": [],
   "source": [
    "home_and_reproduced_pages = user_log.filter(user_log.page.isin(['Home', 'NextSong']))"
   ]
  },
  {
   "cell_type": "code",
   "execution_count": 113,
   "metadata": {},
   "outputs": [],
   "source": [
    "# Use a window function and cumulative sum to distinguish as either pre or post played song and home events.\n",
    "windowval = Window.partitionBy(\"page\").orderBy(desc(\"ts\")).rangeBetween(Window.unboundedPreceding, 0)"
   ]
  },
  {
   "cell_type": "code",
   "execution_count": 127,
   "metadata": {},
   "outputs": [],
   "source": [
    "# create a function to flag the home event\n",
    "visited_home = udf(lambda x : 1 if x == 'Home' else 0, IntegerType())\n",
    "#reproduced_song = udf(lambda x : 2 if x == 'NextSong' else 0, IntegerType())\n",
    "# añade indicadoras de visita a HOme y reproducción de cnación\n",
    "home_and_reproduced_pages = (\n",
    "    home_and_reproduced_pages\n",
    "    .select(['userId', 'page', 'visit_home','ts'])\n",
    "    .withColumn(\"visit_home\", visited_home('page'))\n",
    "    .withColumn(\"visit_home_counter\", Fsum(\"visit_home\").over(windowval))\n",
    ")"
   ]
  },
  {
   "cell_type": "code",
   "execution_count": 132,
   "metadata": {},
   "outputs": [
    {
     "output_type": "stream",
     "name": "stdout",
     "text": [
      "+------------------------------+\n|avg(count(visit_home_counter))|\n+------------------------------+\n|              9.87810650887574|\n+------------------------------+\n\n"
     ]
    }
   ],
   "source": [
    "home_and_reproduced_pages.filter((home_and_reproduced_pages.page == 'NextSong')) \\\n",
    "    .groupBy('userID', 'visit_home_counter') \\\n",
    "    .agg({'visit_home_counter':'count'}) \\\n",
    "    .agg({'count(visit_home_counter)' : 'avg'})\\\n",
    "    .show()\n"
   ]
  },
  {
   "source": [
    "Thus, in average the users play 10 songs between visiting home page"
   ],
   "cell_type": "markdown",
   "metadata": {}
  }
 ]
}