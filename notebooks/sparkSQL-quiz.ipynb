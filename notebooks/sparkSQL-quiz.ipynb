{
 "metadata": {
  "language_info": {
   "codemirror_mode": {
    "name": "ipython",
    "version": 3
   },
   "file_extension": ".py",
   "mimetype": "text/x-python",
   "name": "python",
   "nbconvert_exporter": "python",
   "pygments_lexer": "ipython3",
   "version": "3.10.0-final"
  },
  "orig_nbformat": 2,
  "kernelspec": {
   "name": "python3",
   "display_name": "Python 3 (ipykernel)"
  }
 },
 "nbformat": 4,
 "nbformat_minor": 2,
 "cells": [
  {
   "source": [
    "# Spark SQL"
   ],
   "cell_type": "markdown",
   "metadata": {}
  },
  {
   "source": [
    "A declarative approach to query and wrangle data in Spark is by using SQL-like language.\n",
    "\n",
    "This approach, let us to make more easy and shareable our big data job with other data scientist, data engineering, data anslysts, etc."
   ],
   "cell_type": "markdown",
   "metadata": {}
  },
  {
   "cell_type": "code",
   "execution_count": 2,
   "metadata": {},
   "outputs": [],
   "source": [
    "from pyspark.sql import SparkSession"
   ]
  },
  {
   "cell_type": "code",
   "execution_count": 3,
   "metadata": {},
   "outputs": [
    {
     "output_type": "stream",
     "name": "stderr",
     "text": [
      "Setting default log level to \"WARN\".\n",
      "To adjust logging level use sc.setLogLevel(newLevel). For SparkR, use setLogLevel(newLevel).\n",
      "24/08/12 03:55:45 WARN NativeCodeLoader: Unable to load native-hadoop library for your platform... using builtin-java classes where applicable\n",
      "24/08/12 03:55:47 WARN Utils: Service 'SparkUI' could not bind on port 4040. Attempting port 4041.\n"
     ]
    }
   ],
   "source": [
    "spark = SparkSession.builder.appName(\"using Spark SQL\").getOrCreate()\n",
    "# data path\n",
    "DATA_PATH = '../../data/sparkify_log_small_2.json'\n",
    "# read data\n",
    "user_log = spark.read.json(DATA_PATH)"
   ]
  },
  {
   "cell_type": "code",
   "execution_count": 7,
   "metadata": {},
   "outputs": [
    {
     "output_type": "stream",
     "name": "stdout",
     "text": [
      "root\n |-- artist: string (nullable = true)\n |-- auth: string (nullable = true)\n |-- firstName: string (nullable = true)\n |-- gender: string (nullable = true)\n |-- itemInSession: long (nullable = true)\n |-- lastName: string (nullable = true)\n |-- length: double (nullable = true)\n |-- level: string (nullable = true)\n |-- location: string (nullable = true)\n |-- method: string (nullable = true)\n |-- page: string (nullable = true)\n |-- registration: long (nullable = true)\n |-- sessionId: long (nullable = true)\n |-- song: string (nullable = true)\n |-- status: long (nullable = true)\n |-- ts: long (nullable = true)\n |-- userAgent: string (nullable = true)\n |-- userId: string (nullable = true)\n\n"
     ]
    }
   ],
   "source": [
    "user_log.printSchema()"
   ]
  },
  {
   "cell_type": "code",
   "execution_count": null,
   "metadata": {},
   "outputs": [],
   "source": [
    "# create a temporary view\n",
    "user_log.createOrReplaceTempView(\"user_log_table\")"
   ]
  },
  {
   "source": [
    "## Question 1\n",
    "### Which page did user id \"\"(empty string) NOT visit?"
   ],
   "cell_type": "markdown",
   "metadata": {}
  },
  {
   "source": [
    "Fisrt lets see all page posibilities"
   ],
   "cell_type": "markdown",
   "metadata": {}
  },
  {
   "cell_type": "code",
   "execution_count": 36,
   "metadata": {},
   "outputs": [
    {
     "output_type": "stream",
     "name": "stdout",
     "text": [
      "+----------------+\n|            page|\n+----------------+\n|Submit Downgrade|\n|            Home|\n|       Downgrade|\n|          Logout|\n|   Save Settings|\n|           About|\n|        Settings|\n|           Login|\n|        NextSong|\n|            Help|\n|         Upgrade|\n|           Error|\n|  Submit Upgrade|\n+----------------+\n\n"
     ]
    }
   ],
   "source": [
    "pages = \"\"\"\n",
    "SELECT DISTINCT page\n",
    "FROM user_log_table\n",
    "\"\"\"\n",
    "\n",
    "spark.sql(pages).show()"
   ]
  },
  {
   "source": [
    "Then we show all pages that _empty user_ have visited"
   ],
   "cell_type": "markdown",
   "metadata": {}
  },
  {
   "cell_type": "code",
   "execution_count": 37,
   "metadata": {},
   "outputs": [
    {
     "output_type": "stream",
     "name": "stdout",
     "text": [
      "+-----+\n| page|\n+-----+\n| Home|\n|About|\n|Login|\n| Help|\n+-----+\n\n"
     ]
    }
   ],
   "source": [
    "empty_user_visited_pages = \"\"\"\n",
    "    SELECT DISTINCT page\n",
    "    FROM user_log_table\n",
    "    WHERE userId == ''\n",
    "\"\"\"\n",
    "spark.sql(empty_user_visited_pages).show()"
   ]
  },
  {
   "source": [
    "Find all pages in `pages` that are not in `empty_user_visited_pages`"
   ],
   "cell_type": "markdown",
   "metadata": {}
  },
  {
   "cell_type": "code",
   "execution_count": 40,
   "metadata": {},
   "outputs": [
    {
     "output_type": "stream",
     "name": "stdout",
     "text": [
      "+----------------+\n|            page|\n+----------------+\n|       Downgrade|\n|           Error|\n|          Logout|\n|        NextSong|\n|   Save Settings|\n|        Settings|\n|Submit Downgrade|\n|  Submit Upgrade|\n|         Upgrade|\n+----------------+\n\n"
     ]
    }
   ],
   "source": [
    "not_visited_by_empty_user = \"\"\"\n",
    "    SELECT all_pages.page\n",
    "    FROM ({pages}) all_pages\n",
    "    LEFT JOIN ({empty_user_visited_pages}) blank_pages\n",
    "    ON all_pages.page = blank_pages.page\n",
    "    WHERE blank_pages.page IS NULL\n",
    "    ORDER BY page ASC\n",
    "\"\"\".format(pages=pages, empty_user_visited_pages=empty_user_visited_pages)\n",
    "spark.sql(not_visited_by_empty_user).show()"
   ]
  },
  {
   "source": [
    "Thus, the pages that empty user did not visited was:\n",
    "* Downgrade\n",
    "* Error\n",
    "* Logout\n",
    "* Nextsong\n",
    "* Save Settings\n",
    "* Settings\n",
    "* Submit Downgrade\n",
    "* Submit Upgrade\n",
    "* Upgrade"
   ],
   "cell_type": "markdown",
   "metadata": {}
  },
  {
   "source": [
    "## Question 2 - Reflect\n",
    "### Why might you prefer to use SQL over data frames? Why might you prefer data frames over SQL?"
   ],
   "cell_type": "markdown",
   "metadata": {}
  },
  {
   "source": [
    "**Why SQL over dataframes?**\n",
    "* Becuase it is easier to use when you already know SQL.\n",
    "* Your teamates like data engineers, data analysts or data scientist can understand more"
   ],
   "cell_type": "markdown",
   "metadata": {}
  },
  {
   "source": [
    "**Why dataframes over SQL?**\n",
    "*"
   ],
   "cell_type": "markdown",
   "metadata": {}
  },
  {
   "source": [
    "## Question 3\n",
    "### How many female users do we have in the data set?"
   ],
   "cell_type": "markdown",
   "metadata": {}
  },
  {
   "cell_type": "code",
   "execution_count": 44,
   "metadata": {},
   "outputs": [
    {
     "output_type": "stream",
     "name": "stdout",
     "text": [
      "+----------------+\n|distinct_females|\n+----------------+\n|             462|\n+----------------+\n\n"
     ]
    }
   ],
   "source": [
    "female_users_count = \"\"\"\n",
    "    SELECT COUNT(DISTINCT userID) AS distinct_females\n",
    "    FROM user_log_table\n",
    "    WHERE gender == 'F'\n",
    "\"\"\"\n",
    "spark.sql(female_users_count).show()"
   ]
  },
  {
   "source": [
    "## Question 4\n",
    "\n",
    "### How many songs were played from the most played artist?"
   ],
   "cell_type": "markdown",
   "metadata": {}
  },
  {
   "cell_type": "code",
   "execution_count": 49,
   "metadata": {},
   "outputs": [
    {
     "output_type": "stream",
     "name": "stdout",
     "text": [
      "+--------+------------+\n|  artist|played_songs|\n+--------+------------+\n|Coldplay|          83|\n+--------+------------+\n\n"
     ]
    }
   ],
   "source": [
    "top_artist = \"\"\"\n",
    "    SELECT artist, COUNT(page) AS played_songs\n",
    "    FROM user_log_table\n",
    "    WHERE page = 'NextSong'\n",
    "    GROUP BY artist\n",
    "    ORDER BY played_songs DESC\n",
    "    LIMIT 1\n",
    "\"\"\"\n",
    "result = spark.sql(top_artist)\n",
    "result.show()"
   ]
  },
  {
   "source": [
    "## Question 5 (challenge)\n",
    "### How many songs do users listen to on average between visiting our home page? Please round your answer to the closest integer."
   ],
   "cell_type": "markdown",
   "metadata": {}
  },
  {
   "cell_type": "code",
   "execution_count": 53,
   "metadata": {},
   "outputs": [
    {
     "output_type": "stream",
     "name": "stdout",
     "text": [
      "+-----------------+\n|  avg(song_count)|\n+-----------------+\n|6.898347107438017|\n+-----------------+\n\n"
     ]
    }
   ],
   "source": [
    "query = \"\"\"\n",
    "WITH cumsum AS(\n",
    "    SELECT userId, page, ts,\n",
    "    CASE WHEN page = 'Home' THEN 1 ELSE 0 END AS homevisit,\n",
    "    SUM(CASE WHEN page = 'Home' THEN 1 ELSE 0 END) OVER(\n",
    "        PARTITION BY userId ORDER BY ts DESC\n",
    "        ROWS BETWEEN UNBOUNDED PRECEDING AND CURRENT ROW\n",
    "    ) AS period\n",
    "    FROM user_log_table\n",
    "    WHERE page IN ('Home', 'NextSong')\n",
    ")\n",
    "\n",
    "SELECT AVG(song_count)\n",
    "FROM (\n",
    "    SELECT userId, COUNT(period) AS song_count\n",
    "    FROM cumsum\n",
    "    WHERE page = 'NextSong'\n",
    "    GROUP BY userId, period\n",
    ")\n",
    "\"\"\"\n",
    "result5 = spark.sql(query)\n",
    "result5.show()"
   ]
  },
  {
   "cell_type": "code",
   "execution_count": 50,
   "metadata": {},
   "outputs": [
    {
     "output_type": "stream",
     "name": "stdout",
     "text": [
      "root\n |-- artist: string (nullable = true)\n |-- auth: string (nullable = true)\n |-- firstName: string (nullable = true)\n |-- gender: string (nullable = true)\n |-- itemInSession: long (nullable = true)\n |-- lastName: string (nullable = true)\n |-- length: double (nullable = true)\n |-- level: string (nullable = true)\n |-- location: string (nullable = true)\n |-- method: string (nullable = true)\n |-- page: string (nullable = true)\n |-- registration: long (nullable = true)\n |-- sessionId: long (nullable = true)\n |-- song: string (nullable = true)\n |-- status: long (nullable = true)\n |-- ts: long (nullable = true)\n |-- userAgent: string (nullable = true)\n |-- userId: string (nullable = true)\n\n"
     ]
    }
   ],
   "source": [
    "user_log.printSchema()"
   ]
  }
 ]
}